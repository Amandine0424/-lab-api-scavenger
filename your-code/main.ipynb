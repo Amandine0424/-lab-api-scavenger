{
 "cells": [
  {
   "cell_type": "markdown",
   "id": "2eaf369f",
   "metadata": {},
   "source": [
    "### Your lab resolution :"
   ]
  },
  {
   "cell_type": "code",
   "execution_count": 37,
   "id": "6c94489a",
   "metadata": {},
   "outputs": [],
   "source": [
    "# Import packages\n",
    "\n",
    "import json\n",
    "import requests\n",
    "import time\n",
    "import pandas as pd"
   ]
  },
  {
   "cell_type": "code",
   "execution_count": 43,
   "id": "b764dfcb",
   "metadata": {},
   "outputs": [],
   "source": [
    "# Api token\n",
    "\n",
    "user = 'Amandine0424'\n",
    "api_key = open('api_token - copie.txt').read()"
   ]
  },
  {
   "cell_type": "markdown",
   "id": "33444140",
   "metadata": {},
   "source": [
    "# Challenge 1 : Fork languages"
   ]
  },
  {
   "cell_type": "markdown",
   "id": "c51b78a3",
   "metadata": {},
   "source": [
    "1. Obtain the full list of forks created from the main lab repo via Github API."
   ]
  },
  {
   "cell_type": "code",
   "execution_count": 60,
   "id": "72220007",
   "metadata": {},
   "outputs": [
    {
     "name": "stdout",
     "output_type": "stream",
     "text": [
      "Fork information saved to forks_info.json\n"
     ]
    }
   ],
   "source": [
    "# Get fork link for every repo\n",
    "\n",
    "# Specify the repository details\n",
    "repo_owner = \"ironhack-datalabs\"\n",
    "repo_name = \"bcn-feb-2019\"\n",
    "\n",
    "# GitHub API URL for listing forks\n",
    "api_url = f\"https://api.github.com/repos/{repo_owner}/{repo_name}/forks\"\n",
    "\n",
    "# Send a GET request to the GitHub API\n",
    "response = requests.get(api_url)\n",
    "\n",
    "# Check if the request was successful (status code 200)\n",
    "if response.status_code == 200:\n",
    "    # Parse the JSON response\n",
    "    forks = response.json()\n",
    "\n",
    "    # Save fork information to a JSON file\n",
    "    with open(\"forks_info.json\", \"w\") as json_file:\n",
    "        json.dump(forks, json_file, indent=4)\n",
    "\n",
    "    print(\"Fork information saved to forks_info.json\")\n",
    "else:\n",
    "    # Print an error message if the request was not successful\n",
    "    print(f\"Error: {response.status_code}, {response.text}\")\n"
   ]
  },
  {
   "cell_type": "code",
   "execution_count": 61,
   "id": "2123c998",
   "metadata": {},
   "outputs": [
    {
     "name": "stdout",
     "output_type": "stream",
     "text": [
      "Fork URL: https://api.github.com/repos/fgardete/bcn-feb-2019\n",
      "Forks URL: https://api.github.com/repos/fgardete/bcn-feb-2019/forks\n",
      "\n",
      "\n",
      "Fork URL: https://api.github.com/repos/StanRocha/bcn-feb-2019\n",
      "Forks URL: https://api.github.com/repos/StanRocha/bcn-feb-2019/forks\n",
      "\n",
      "\n",
      "Fork URL: https://api.github.com/repos/MRibas123/bcn-feb-2019\n",
      "Forks URL: https://api.github.com/repos/MRibas123/bcn-feb-2019/forks\n",
      "\n",
      "\n",
      "Fork URL: https://api.github.com/repos/MariaEstebanDA/bcn-feb-2019\n",
      "Forks URL: https://api.github.com/repos/MariaEstebanDA/bcn-feb-2019/forks\n",
      "\n",
      "\n",
      "Fork URL: https://api.github.com/repos/je-nakajima/bcn-feb-2019\n",
      "Forks URL: https://api.github.com/repos/je-nakajima/bcn-feb-2019/forks\n",
      "\n",
      "\n",
      "Fork URL: https://api.github.com/repos/franbaldi/bcn-feb-2019\n",
      "Forks URL: https://api.github.com/repos/franbaldi/bcn-feb-2019/forks\n",
      "\n",
      "\n",
      "Fork URL: https://api.github.com/repos/brunacarolino/bcn-feb-2019\n",
      "Forks URL: https://api.github.com/repos/brunacarolino/bcn-feb-2019/forks\n",
      "\n",
      "\n"
     ]
    }
   ],
   "source": [
    "# Load the JSON file\n",
    "with open('forks_info.json', 'r') as file:\n",
    "    data = json.load(file)\n",
    "\n",
    "# Extract and display information about forks\n",
    "for fork_info in data:\n",
    "    if fork_info.get(\"fork\"):\n",
    "        print(\"Fork URL:\", fork_info.get(\"url\"))\n",
    "        print(\"Forks URL:\", fork_info.get(\"forks_url\"))\n",
    "        print(\"\\n\")"
   ]
  },
  {
   "cell_type": "markdown",
   "id": "eabb12fb",
   "metadata": {},
   "source": [
    "2. Loop the JSON response to find out the language attribute of each fork. Use an array to store the language attributes of each fork."
   ]
  },
  {
   "cell_type": "code",
   "execution_count": 68,
   "id": "716ce08b",
   "metadata": {},
   "outputs": [
    {
     "name": "stdout",
     "output_type": "stream",
     "text": [
      "['Jupyter Notebook']\n"
     ]
    }
   ],
   "source": [
    "# Set to store unique programming languages\n",
    "languages_set = set()\n",
    "\n",
    "# Loop through each fork and get the language attribute\n",
    "for fork_info in data:\n",
    "    # Check if 'language' key exists in the fork information and is not None\n",
    "    if 'language' in fork_info and fork_info['language'] is not None:\n",
    "        languages_set.add(fork_info['language'])\n",
    "\n",
    "# Convert the set to a list\n",
    "languages_list = list(languages_set)\n",
    "\n",
    "# Print the list of programming languages\n",
    "print(languages_list)"
   ]
  },
  {
   "cell_type": "markdown",
   "id": "574b40b1",
   "metadata": {},
   "source": [
    "# Challenge 2 : Count Commits"
   ]
  },
  {
   "cell_type": "code",
   "execution_count": 73,
   "id": "ebcc8fa8",
   "metadata": {},
   "outputs": [
    {
     "name": "stdout",
     "output_type": "stream",
     "text": [
      "Number of commits in the past 3 weeks: 0\n"
     ]
    }
   ],
   "source": [
    "import datetime\n",
    "\n",
    "#Calculate datetime 3 weeks ago using DateTime format\n",
    "now = datetime.datetime.today().isoformat()\n",
    "from_date = (datetime.datetime.today() - datetime.timedelta(weeks=3)).isoformat()\n",
    "\n",
    "token = \"******************************************\"\n",
    "\n",
    "headers = {\n",
    "    'Authorization': f'Bearer {token}',\n",
    "    'Accept': 'application/vnd.github+json'\n",
    "} #sending a token in HTTP requests\n",
    "\n",
    "url = f'https://api.github.com/repos/ta-data-pt-rmt/lab-mysql-first-queries/commits?since={from_date}'\n",
    "\n",
    "response = requests.get(url, headers=headers)\n",
    "\n",
    "if response.status_code == 200:\n",
    "    commits = response.json() #Parse JSON response\n",
    "    num_commits = len(commits)\n",
    "    print(f\"Number of commits in the past 3 weeks: {num_commits}\")\n",
    "else:\n",
    "    print(f\"Error: {response.status_code} - {response.text}\")\n"
   ]
  }
 ],
 "metadata": {
  "kernelspec": {
   "display_name": "Python 3 (ipykernel)",
   "language": "python",
   "name": "python3"
  },
  "language_info": {
   "codemirror_mode": {
    "name": "ipython",
    "version": 3
   },
   "file_extension": ".py",
   "mimetype": "text/x-python",
   "name": "python",
   "nbconvert_exporter": "python",
   "pygments_lexer": "ipython3",
   "version": "3.10.9"
  }
 },
 "nbformat": 4,
 "nbformat_minor": 5
}
